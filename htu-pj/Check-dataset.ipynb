{
 "cells": [
  {
   "cell_type": "markdown",
   "metadata": {},
   "source": [
    "https://www.sdss.org/dr12/algorithms/magnitudes/"
   ]
  },
  {
   "cell_type": "code",
   "execution_count": null,
   "metadata": {},
   "outputs": [],
   "source": [
    "%pylab inline\n",
    "import pandas as pd\n",
    "from plotly.offline import iplot, init_notebook_mode\n",
    "import plotly.graph_objs as go\n",
    "init_notebook_mode(connected=True)"
   ]
  },
  {
   "cell_type": "code",
   "execution_count": null,
   "metadata": {
    "scrolled": false
   },
   "outputs": [],
   "source": [
    "df = pd.read_csv('sdss_phototag_1.csv')\n",
    "df.sample(5)"
   ]
  },
  {
   "cell_type": "code",
   "execution_count": null,
   "metadata": {},
   "outputs": [],
   "source": [
    "df.shape"
   ]
  },
  {
   "cell_type": "code",
   "execution_count": null,
   "metadata": {},
   "outputs": [],
   "source": [
    "from ipywidgets import interactive\n",
    "import ipywidgets as widgets\n",
    "from ipywidgets import HBox, VBox"
   ]
  },
  {
   "cell_type": "code",
   "execution_count": null,
   "metadata": {},
   "outputs": [],
   "source": [
    "# x = df['psfmag_u'] - df['psfmag_g']\n",
    "# y = df['psfmag_g'] - df['psfmag_r']\n",
    "\n",
    "x = df['psfmag_g'] - df['modelmag_g']\n",
    "y = df['psfmag_i'] - df['modelmag_i']\n",
    "\n",
    "\n",
    "layout = go.Layout(title='SCATTER PLOT',\n",
    "                   xaxis={'title':'x'},\n",
    "                   yaxis={'title':'y'},\n",
    "                   hovermode='closest')\n",
    "\n",
    "fig = go.Figure(layout=layout)\n",
    "\n",
    "fig.add_scattergl(x=x,\n",
    "                  y=y,\n",
    "                  mode='markers',\n",
    "                  hovertext=df['type'],\n",
    "                  marker={'size': 3,\n",
    "                          'opacity': 0.2,\n",
    "                          'color':df['type'],\n",
    "                          'colorscale': 'Viridis'})    # markers, lines or both\n",
    "\n",
    "iplot(fig)"
   ]
  },
  {
   "cell_type": "code",
   "execution_count": null,
   "metadata": {},
   "outputs": [],
   "source": [
    "# x = df['psfmag_u'] - df['psfmag_g']\n",
    "# y = df['psfmag_g'] - df['psfmag_r']\n",
    "\n",
    "x = df['psfmag_g'] - df['modelmag_g']\n",
    "y = df['psfmag_r'] - df['modelmag_r']\n",
    "z = df['psfmag_i'] - df['modelmag_i']\n",
    "\n",
    "\n",
    "\n",
    "layout = go.Layout(title='SCATTER PLOT',\n",
    "                   xaxis={'title':'x'},\n",
    "                   yaxis={'title':'y'},\n",
    "                   hovermode='closest')\n",
    "\n",
    "fig = go.Figure(layout=layout)\n",
    "\n",
    "fig.add_scatter3d(x=x,\n",
    "                  y=y,\n",
    "                  z=z,\n",
    "                  mode='markers',\n",
    "                  hovertext=df['type'],\n",
    "                  marker={'size': 3,\n",
    "                          'opacity': 0.2,\n",
    "                          'color':df['type'],\n",
    "                          'colorscale': 'Viridis'})    # markers, lines or both\n",
    "\n",
    "iplot(fig)"
   ]
  },
  {
   "cell_type": "code",
   "execution_count": null,
   "metadata": {},
   "outputs": [],
   "source": [
    "x1psfmags = widgets.SelectMultiple(options=['psfmag_u',\n",
    "                                            'psfmag_g',\n",
    "                                            'psfmag_r',\n",
    "                                            'psfmag_i',\n",
    "                                            'psfmag_z'],\n",
    "                                   description='x1:')\n",
    "\n",
    "x2psfmags = widgets.SelectMultiple(options=['psfmag_u', \n",
    "                                            'psfmag_g', \n",
    "                                            'psfmag_r', \n",
    "                                            'psfmag_i', \n",
    "                                            'psfmag_z'], \n",
    "                                   description='x2:')\n",
    "\n",
    "y1psfmags = widgets.SelectMultiple(options=['psfmag_u', \n",
    "                                            'psfmag_g', \n",
    "                                            'psfmag_r', \n",
    "                                            'psfmag_i', \n",
    "                                            'psfmag_z'], \n",
    "                                   description='y1:')\n",
    "\n",
    "y2psfmags = widgets.SelectMultiple(options=['psfmag_u', \n",
    "                                            'psfmag_g', \n",
    "                                            'psfmag_r', \n",
    "                                            'psfmag_i', \n",
    "                                            'psfmag_z'], \n",
    "                                   description='y2:')"
   ]
  },
  {
   "cell_type": "code",
   "execution_count": null,
   "metadata": {},
   "outputs": [],
   "source": [
    "def update_plot(x1psfmags, x2psfmags, y1psfmags, y2psfmags):\n",
    "    \"\"\"\n",
    "    This function updates the plot everytime a widget is changed\n",
    "    \"\"\"\n",
    "    \n",
    "    data = []\n",
    "    \n",
    "    for x1psfmag in x1psfmags:\n",
    "        for x2psfmag in x2psfmags:\n",
    "            for y1psfmag in y1psfmags:\n",
    "                for y2psfmag in y2psfmags:\n",
    "                    trace = go.Scattergl(x=df[x1psfmag] - df[x2psfmag],\n",
    "                                         y=df[y1psfmag] - df[y2psfmag],\n",
    "                                         mode='markers',\n",
    "                                         marker={'color': df['type'],\n",
    "                                         'opacity': 0.6,\n",
    "                                         'colorscale': 'Viridis'})\n",
    "        data.append(trace)\n",
    "        \n",
    "    layout = go.Layout(title='color plot',\n",
    "                       xaxis={'title':'{} - {}'.format(x1psfmag, x2psfmag)},\n",
    "                       yaxis={'title':'{} - {}'.format(y1psfmag, y2psfmag)},\n",
    "                       hovermode='closest')    \n",
    "\n",
    "    fig = go.Figure(data=data, layout=layout)\n",
    "    \n",
    "    iplot(fig)\n",
    "    \n",
    "\n",
    "widgets.interactive(update_plot, \n",
    "                    x1psfmags=x1psfmags, x2psfmags=x2psfmags, \n",
    "                    y1psfmags=y1psfmags, y2psfmags=y2psfmags)"
   ]
  },
  {
   "cell_type": "code",
   "execution_count": null,
   "metadata": {},
   "outputs": [],
   "source": []
  },
  {
   "cell_type": "code",
   "execution_count": null,
   "metadata": {},
   "outputs": [],
   "source": []
  }
 ],
 "metadata": {
  "kernelspec": {
   "display_name": "Python 3",
   "language": "python",
   "name": "python3"
  },
  "language_info": {
   "codemirror_mode": {
    "name": "ipython",
    "version": 3
   },
   "file_extension": ".py",
   "mimetype": "text/x-python",
   "name": "python",
   "nbconvert_exporter": "python",
   "pygments_lexer": "ipython3",
   "version": "3.6.6"
  }
 },
 "nbformat": 4,
 "nbformat_minor": 2
}
